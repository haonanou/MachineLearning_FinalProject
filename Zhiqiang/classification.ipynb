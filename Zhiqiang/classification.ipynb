{
 "cells": [
  {
   "cell_type": "code",
   "execution_count": 6,
   "metadata": {},
   "outputs": [],
   "source": [
    "import pandas as pd\n",
    "from matplotlib import pyplot as plt\n",
    "import numpy as np\n",
    "from sklearn.model_selection import train_test_split\n",
    "from sklearn.preprocessing import StandardScaler\n",
    "from sklearn.metrics import accuracy_score, recall_score, precision_score, f1_score, classification_report\n",
    "from sklearn.pipeline import make_pipeline\n",
    "from sklearn.linear_model import LogisticRegression\n",
    "from sklearn.dummy import DummyClassifier\n",
    "from sklearn.neighbors import KNeighborsClassifier\n",
    "from sklearn.ensemble import RandomForestClassifier\n",
    "from sklearn.svm import SVC\n",
    "from sklearn.tree import DecisionTreeClassifier\n",
    "from sklearn.model_selection import cross_val_score"
   ]
  },
  {
   "cell_type": "code",
   "execution_count": 7,
   "metadata": {},
   "outputs": [],
   "source": [
    "data = pd.read_csv('../train.csv')"
   ]
  },
  {
   "cell_type": "code",
   "execution_count": 8,
   "metadata": {},
   "outputs": [
    {
     "data": {
      "text/html": [
       "<div>\n",
       "<style scoped>\n",
       "    .dataframe tbody tr th:only-of-type {\n",
       "        vertical-align: middle;\n",
       "    }\n",
       "\n",
       "    .dataframe tbody tr th {\n",
       "        vertical-align: top;\n",
       "    }\n",
       "\n",
       "    .dataframe thead th {\n",
       "        text-align: right;\n",
       "    }\n",
       "</style>\n",
       "<table border=\"1\" class=\"dataframe\">\n",
       "  <thead>\n",
       "    <tr style=\"text-align: right;\">\n",
       "      <th></th>\n",
       "      <th>blueFirstBlood</th>\n",
       "      <th>blueKills</th>\n",
       "      <th>blueDeaths</th>\n",
       "      <th>blueGoldDiff</th>\n",
       "      <th>blueExperienceDiff</th>\n",
       "      <th>blueWardsPlacedDiff</th>\n",
       "      <th>blueWardsDestroyedDiff</th>\n",
       "      <th>blueAvgLevelDiff</th>\n",
       "      <th>blueAssistsDiff</th>\n",
       "      <th>blueTotalMinionsKilledDiff</th>\n",
       "      <th>blueTotalJungleMinionsKilledDiff</th>\n",
       "      <th>blueEliteMonstersDiff</th>\n",
       "      <th>blueDragonsDiff</th>\n",
       "      <th>blueHeraldsDiff</th>\n",
       "      <th>blueTowersDestroyedDiff</th>\n",
       "      <th>blueWins</th>\n",
       "    </tr>\n",
       "  </thead>\n",
       "  <tbody>\n",
       "    <tr>\n",
       "      <th>0</th>\n",
       "      <td>0</td>\n",
       "      <td>5</td>\n",
       "      <td>3</td>\n",
       "      <td>976</td>\n",
       "      <td>1599</td>\n",
       "      <td>-21</td>\n",
       "      <td>2</td>\n",
       "      <td>0.4</td>\n",
       "      <td>1</td>\n",
       "      <td>10</td>\n",
       "      <td>19</td>\n",
       "      <td>1</td>\n",
       "      <td>1</td>\n",
       "      <td>0</td>\n",
       "      <td>0</td>\n",
       "      <td>1</td>\n",
       "    </tr>\n",
       "    <tr>\n",
       "      <th>1</th>\n",
       "      <td>1</td>\n",
       "      <td>5</td>\n",
       "      <td>4</td>\n",
       "      <td>780</td>\n",
       "      <td>523</td>\n",
       "      <td>-16</td>\n",
       "      <td>0</td>\n",
       "      <td>-0.2</td>\n",
       "      <td>0</td>\n",
       "      <td>0</td>\n",
       "      <td>12</td>\n",
       "      <td>2</td>\n",
       "      <td>1</td>\n",
       "      <td>0</td>\n",
       "      <td>0</td>\n",
       "      <td>1</td>\n",
       "    </tr>\n",
       "    <tr>\n",
       "      <th>2</th>\n",
       "      <td>0</td>\n",
       "      <td>6</td>\n",
       "      <td>14</td>\n",
       "      <td>-4443</td>\n",
       "      <td>-4140</td>\n",
       "      <td>1</td>\n",
       "      <td>0</td>\n",
       "      <td>-1.0</td>\n",
       "      <td>-5</td>\n",
       "      <td>-27</td>\n",
       "      <td>-20</td>\n",
       "      <td>-1</td>\n",
       "      <td>-1</td>\n",
       "      <td>0</td>\n",
       "      <td>0</td>\n",
       "      <td>1</td>\n",
       "    </tr>\n",
       "    <tr>\n",
       "      <th>3</th>\n",
       "      <td>0</td>\n",
       "      <td>4</td>\n",
       "      <td>7</td>\n",
       "      <td>-1903</td>\n",
       "      <td>-584</td>\n",
       "      <td>-25</td>\n",
       "      <td>-1</td>\n",
       "      <td>0.0</td>\n",
       "      <td>-8</td>\n",
       "      <td>-10</td>\n",
       "      <td>-17</td>\n",
       "      <td>-1</td>\n",
       "      <td>-1</td>\n",
       "      <td>0</td>\n",
       "      <td>0</td>\n",
       "      <td>0</td>\n",
       "    </tr>\n",
       "    <tr>\n",
       "      <th>4</th>\n",
       "      <td>0</td>\n",
       "      <td>5</td>\n",
       "      <td>10</td>\n",
       "      <td>-3731</td>\n",
       "      <td>-1458</td>\n",
       "      <td>10</td>\n",
       "      <td>1</td>\n",
       "      <td>-0.6</td>\n",
       "      <td>-3</td>\n",
       "      <td>-25</td>\n",
       "      <td>-5</td>\n",
       "      <td>-1</td>\n",
       "      <td>-1</td>\n",
       "      <td>0</td>\n",
       "      <td>0</td>\n",
       "      <td>1</td>\n",
       "    </tr>\n",
       "  </tbody>\n",
       "</table>\n",
       "</div>"
      ],
      "text/plain": [
       "   blueFirstBlood  blueKills  blueDeaths  blueGoldDiff  blueExperienceDiff  \\\n",
       "0               0          5           3           976                1599   \n",
       "1               1          5           4           780                 523   \n",
       "2               0          6          14         -4443               -4140   \n",
       "3               0          4           7         -1903                -584   \n",
       "4               0          5          10         -3731               -1458   \n",
       "\n",
       "   blueWardsPlacedDiff  blueWardsDestroyedDiff  blueAvgLevelDiff  \\\n",
       "0                  -21                       2               0.4   \n",
       "1                  -16                       0              -0.2   \n",
       "2                    1                       0              -1.0   \n",
       "3                  -25                      -1               0.0   \n",
       "4                   10                       1              -0.6   \n",
       "\n",
       "   blueAssistsDiff  blueTotalMinionsKilledDiff  \\\n",
       "0                1                          10   \n",
       "1                0                           0   \n",
       "2               -5                         -27   \n",
       "3               -8                         -10   \n",
       "4               -3                         -25   \n",
       "\n",
       "   blueTotalJungleMinionsKilledDiff  blueEliteMonstersDiff  blueDragonsDiff  \\\n",
       "0                                19                      1                1   \n",
       "1                                12                      2                1   \n",
       "2                               -20                     -1               -1   \n",
       "3                               -17                     -1               -1   \n",
       "4                                -5                     -1               -1   \n",
       "\n",
       "   blueHeraldsDiff  blueTowersDestroyedDiff  blueWins  \n",
       "0                0                        0         1  \n",
       "1                0                        0         1  \n",
       "2                0                        0         1  \n",
       "3                0                        0         0  \n",
       "4                0                        0         1  "
      ]
     },
     "execution_count": 8,
     "metadata": {},
     "output_type": "execute_result"
    }
   ],
   "source": [
    "data.head()"
   ]
  },
  {
   "cell_type": "code",
   "execution_count": 9,
   "metadata": {},
   "outputs": [],
   "source": [
    "X = data.loc[:, data.columns != 'blueWins']\n",
    "y = data['blueWins']"
   ]
  },
  {
   "cell_type": "code",
   "execution_count": 10,
   "metadata": {},
   "outputs": [],
   "source": [
    "X_train, X_test, y_train, y_test = train_test_split(X, y, test_size=0.3, random_state=42)"
   ]
  },
  {
   "cell_type": "code",
   "execution_count": 14,
   "metadata": {},
   "outputs": [
    {
     "name": "stdout",
     "output_type": "stream",
     "text": [
      "Test accuaracy: 0.493\n"
     ]
    }
   ],
   "source": [
    "pipe_dummy = make_pipeline(DummyClassifier(strategy=\"stratified\",random_state=41))\n",
    "pipe_dummy.fit(X_train, y_train)\n",
    "y_pred = pipe_dummy.predict(X_test)\n",
    "print('Test accuaracy: %.3f' % pipe_dummy.score(X_test, y_test))"
   ]
  },
  {
   "cell_type": "code",
   "execution_count": 15,
   "metadata": {},
   "outputs": [
    {
     "name": "stdout",
     "output_type": "stream",
     "text": [
      "Test accuaracy: 0.507\n",
      "              precision    recall  f1-score   support\n",
      "\n",
      "           0       0.51      0.51      0.51      1040\n",
      "           1       0.51      0.51      0.51      1035\n",
      "\n",
      "    accuracy                           0.51      2075\n",
      "   macro avg       0.51      0.51      0.51      2075\n",
      "weighted avg       0.51      0.51      0.51      2075\n",
      "\n"
     ]
    }
   ],
   "source": [
    "pipe_dummy = make_pipeline(StandardScaler(),\n",
    "                        DummyClassifier(strategy=\"stratified\",random_state=49))\n",
    "pipe_dummy.fit(X_train, y_train)\n",
    "y_pred = pipe_dummy.predict(X_test)\n",
    "print('Test accuaracy: %.3f' % pipe_dummy.score(X_test, y_test))\n",
    "print(classification_report(y_test, y_pred))"
   ]
  },
  {
   "cell_type": "code",
   "execution_count": 18,
   "metadata": {
    "scrolled": false
   },
   "outputs": [
    {
     "data": {
      "image/png": "[encoded data removed]",
      "text/plain": [
       "<Figure size 432x288 with 1 Axes>"
      ]
     },
     "metadata": {
      "needs_background": "light"
     },
     "output_type": "display_data"
    },
    {
     "data": {
      "image/png": "[encoded data removed]",
      "text/plain": [
       "<Figure size 432x288 with 1 Axes>"
      ]
     },
     "metadata": {
      "needs_background": "light"
     },
     "output_type": "display_data"
    },
    {
     "data": {
      "image/png": "[encoded data removed]",
      "text/plain": [
       "<Figure size 432x288 with 1 Axes>"
      ]
     },
     "metadata": {
      "needs_background": "light"
     },
     "output_type": "display_data"
    },
    {
     "data": {
      "image/png": "[encoded data removed]",
      "text/plain": [
       "<Figure size 432x288 with 1 Axes>"
      ]
     },
     "metadata": {
      "needs_background": "light"
     },
     "output_type": "display_data"
    },
    {
     "data": {
      "image/png": "[encoded data removed]",
      "text/plain": [
       "<Figure size 432x288 with 1 Axes>"
      ]
     },
     "metadata": {
      "needs_background": "light"
     },
     "output_type": "display_data"
    },
    {
     "data": {
      "image/png": "[encoded data removed]",
      "text/plain": [
       "<Figure size 432x288 with 1 Axes>"
      ]
     },
     "metadata": {
      "needs_background": "light"
     },
     "output_type": "display_data"
    }
   ],
   "source": [
    "def Logistic_Regression():\n",
    "    lr_clf = LogisticRegression(max_iter=1000,solver='lbfgs',random_state=5)\n",
    "    return lr_clf\n",
    "def KNeighbors_Classifier():\n",
    "    knn_clf = KNeighborsClassifier()\n",
    "    return knn_clf\n",
    "def DecisionTree_Classifier():\n",
    "    tree_clf = DecisionTreeClassifier(random_state=6)\n",
    "    return tree_clf\n",
    "def Random_Forest():\n",
    "    rf_clf = RandomForestClassifier(n_estimators=10,random_state=1)\n",
    "    return rf_clf\n",
    "def Svm_Classifier():\n",
    "    svm_clf = SVC(gamma='scale',random_state=3)\n",
    "    return svm_clf\n",
    "def graph_model(clfs):\n",
    "    clf.fit(X_train, y_train)\n",
    "    y_pred = clf.predict(X_test)\n",
    "    metricArray = [accuracy_score(y_test, y_pred), recall_score(y_test, y_pred),\n",
    "                   precision_score(y_test, y_pred), f1_score(y_test, y_pred)]\n",
    "    x=[0,1,2,3]\n",
    "    labels=['accuracy','recall', 'precision', 'f1 score']\n",
    "    plt.bar(x,metricArray)\n",
    "    plt.xticks(x,labels)\n",
    "    plt.ylim(0,1)\n",
    "    plt.ylabel('percentage')\n",
    "    plt.title(label)\n",
    "    plt.show()\n",
    "    \n",
    "#“stratified”: generates predictions by respecting the training set’s class distribution.\n",
    "dummy_clf = DummyClassifier(strategy=\"stratified\",random_state=99)\n",
    "clfs = [dummy_clf, KNeighbors_Classifier(), DecisionTree_Classifier(), \n",
    "        Svm_Classifier(), Random_Forest(),Logistic_Regression()]\n",
    "clf_labels = ['Dummy Classifier','KNeighbors Classifier','DecisionTree Classifier',\n",
    "              'SVM Classifier','Random Forest','Logistic Regression']\n",
    "for label,clf in zip(clf_labels,clfs):\n",
    "    graph_model(clf)"
   ]
  },
  {
   "cell_type": "code",
   "execution_count": 19,
   "metadata": {},
   "outputs": [
    {
     "name": "stdout",
     "output_type": "stream",
     "text": [
      "accuracy: 0.502 (+/- 0.013) [Dummy Classifier]\n",
      "accuracy: 0.681 (+/- 0.009) [KNeighbors Classifier]\n",
      "accuracy: 0.635 (+/- 0.020) [DecisionTree Classifier]\n",
      "accuracy: 0.722 (+/- 0.011) [SVM Classifier]\n",
      "accuracy: 0.701 (+/- 0.014) [Random Forest]\n",
      "accuracy: 0.729 (+/- 0.007) [Logistic Regression]\n"
     ]
    }
   ],
   "source": [
    "for label,clf in zip(clf_labels,clfs):\n",
    "    scores = cross_val_score(estimator=clf, X=X_train, y=y_train, cv=5)\n",
    "    print(\"accuracy: %0.3f (+/- %0.3f) [%s]\"\n",
    "    % (scores.mean(), scores.std(), label))"
   ]
  },
  {
   "cell_type": "code",
   "execution_count": null,
   "metadata": {},
   "outputs": [],
   "source": []
  }
 ],
 "metadata": {
  "kernelspec": {
   "display_name": "Python 3",
   "language": "python",
   "name": "python3"
  },
  "language_info": {
   "codemirror_mode": {
    "name": "ipython",
    "version": 3
   },
   "file_extension": ".py",
   "mimetype": "text/x-python",
   "name": "python",
   "nbconvert_exporter": "python",
   "pygments_lexer": "ipython3",
   "version": "3.7.3"
  }
 },
 "nbformat": 4,
 "nbformat_minor": 4
}
