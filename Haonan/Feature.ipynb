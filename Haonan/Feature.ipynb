{
 "cells": [
  {
   "cell_type": "code",
   "execution_count": 1,
   "metadata": {},
   "outputs": [],
   "source": [
    "import pandas as pd\n",
    "from matplotlib import pyplot as plt\n",
    "import numpy as np\n",
    "from sklearn.model_selection import train_test_split\n",
    "from sklearn.preprocessing import StandardScaler\n",
    "from sklearn.ensemble import ExtraTreesClassifier\n",
    "from sklearn.metrics import accuracy_score\n",
    "from sklearn.linear_model import Perceptron\n",
    "from sklearn.linear_model import LogisticRegression\n",
    "from sklearn.metrics import classification_report\n",
    "\n",
    "%matplotlib inline"
   ]
  },
  {
   "cell_type": "code",
   "execution_count": 2,
   "metadata": {},
   "outputs": [],
   "source": [
    "data = pd.read_csv('../train.csv')"
   ]
  },
  {
   "cell_type": "code",
   "execution_count": 3,
   "metadata": {},
   "outputs": [
    {
     "data": {
      "text/html": [
       "<div>\n",
       "<style scoped>\n",
       "    .dataframe tbody tr th:only-of-type {\n",
       "        vertical-align: middle;\n",
       "    }\n",
       "\n",
       "    .dataframe tbody tr th {\n",
       "        vertical-align: top;\n",
       "    }\n",
       "\n",
       "    .dataframe thead th {\n",
       "        text-align: right;\n",
       "    }\n",
       "</style>\n",
       "<table border=\"1\" class=\"dataframe\">\n",
       "  <thead>\n",
       "    <tr style=\"text-align: right;\">\n",
       "      <th></th>\n",
       "      <th>blueFirstBlood</th>\n",
       "      <th>blueKills</th>\n",
       "      <th>blueDeaths</th>\n",
       "      <th>blueGoldDiff</th>\n",
       "      <th>blueExperienceDiff</th>\n",
       "      <th>blueWardsPlacedDiff</th>\n",
       "      <th>blueWardsDestroyedDiff</th>\n",
       "      <th>blueAvgLevelDiff</th>\n",
       "      <th>blueAssistsDiff</th>\n",
       "      <th>blueTotalMinionsKilledDiff</th>\n",
       "      <th>blueTotalJungleMinionsKilledDiff</th>\n",
       "      <th>blueEliteMonstersDiff</th>\n",
       "      <th>blueDragonsDiff</th>\n",
       "      <th>blueHeraldsDiff</th>\n",
       "      <th>blueTowersDestroyedDiff</th>\n",
       "      <th>blueWins</th>\n",
       "    </tr>\n",
       "  </thead>\n",
       "  <tbody>\n",
       "    <tr>\n",
       "      <th>0</th>\n",
       "      <td>0</td>\n",
       "      <td>5</td>\n",
       "      <td>3</td>\n",
       "      <td>976</td>\n",
       "      <td>1599</td>\n",
       "      <td>-21</td>\n",
       "      <td>2</td>\n",
       "      <td>0.4</td>\n",
       "      <td>1</td>\n",
       "      <td>10</td>\n",
       "      <td>19</td>\n",
       "      <td>1</td>\n",
       "      <td>1</td>\n",
       "      <td>0</td>\n",
       "      <td>0</td>\n",
       "      <td>1</td>\n",
       "    </tr>\n",
       "    <tr>\n",
       "      <th>1</th>\n",
       "      <td>1</td>\n",
       "      <td>5</td>\n",
       "      <td>4</td>\n",
       "      <td>780</td>\n",
       "      <td>523</td>\n",
       "      <td>-16</td>\n",
       "      <td>0</td>\n",
       "      <td>-0.2</td>\n",
       "      <td>0</td>\n",
       "      <td>0</td>\n",
       "      <td>12</td>\n",
       "      <td>2</td>\n",
       "      <td>1</td>\n",
       "      <td>0</td>\n",
       "      <td>0</td>\n",
       "      <td>1</td>\n",
       "    </tr>\n",
       "    <tr>\n",
       "      <th>2</th>\n",
       "      <td>0</td>\n",
       "      <td>6</td>\n",
       "      <td>14</td>\n",
       "      <td>-4443</td>\n",
       "      <td>-4140</td>\n",
       "      <td>1</td>\n",
       "      <td>0</td>\n",
       "      <td>-1.0</td>\n",
       "      <td>-5</td>\n",
       "      <td>-27</td>\n",
       "      <td>-20</td>\n",
       "      <td>-1</td>\n",
       "      <td>-1</td>\n",
       "      <td>0</td>\n",
       "      <td>0</td>\n",
       "      <td>1</td>\n",
       "    </tr>\n",
       "    <tr>\n",
       "      <th>3</th>\n",
       "      <td>0</td>\n",
       "      <td>4</td>\n",
       "      <td>7</td>\n",
       "      <td>-1903</td>\n",
       "      <td>-584</td>\n",
       "      <td>-25</td>\n",
       "      <td>-1</td>\n",
       "      <td>0.0</td>\n",
       "      <td>-8</td>\n",
       "      <td>-10</td>\n",
       "      <td>-17</td>\n",
       "      <td>-1</td>\n",
       "      <td>-1</td>\n",
       "      <td>0</td>\n",
       "      <td>0</td>\n",
       "      <td>0</td>\n",
       "    </tr>\n",
       "    <tr>\n",
       "      <th>4</th>\n",
       "      <td>0</td>\n",
       "      <td>5</td>\n",
       "      <td>10</td>\n",
       "      <td>-3731</td>\n",
       "      <td>-1458</td>\n",
       "      <td>10</td>\n",
       "      <td>1</td>\n",
       "      <td>-0.6</td>\n",
       "      <td>-3</td>\n",
       "      <td>-25</td>\n",
       "      <td>-5</td>\n",
       "      <td>-1</td>\n",
       "      <td>-1</td>\n",
       "      <td>0</td>\n",
       "      <td>0</td>\n",
       "      <td>1</td>\n",
       "    </tr>\n",
       "  </tbody>\n",
       "</table>\n",
       "</div>"
      ],
      "text/plain": [
       "   blueFirstBlood  blueKills  blueDeaths  blueGoldDiff  blueExperienceDiff  \\\n",
       "0               0          5           3           976                1599   \n",
       "1               1          5           4           780                 523   \n",
       "2               0          6          14         -4443               -4140   \n",
       "3               0          4           7         -1903                -584   \n",
       "4               0          5          10         -3731               -1458   \n",
       "\n",
       "   blueWardsPlacedDiff  blueWardsDestroyedDiff  blueAvgLevelDiff  \\\n",
       "0                  -21                       2               0.4   \n",
       "1                  -16                       0              -0.2   \n",
       "2                    1                       0              -1.0   \n",
       "3                  -25                      -1               0.0   \n",
       "4                   10                       1              -0.6   \n",
       "\n",
       "   blueAssistsDiff  blueTotalMinionsKilledDiff  \\\n",
       "0                1                          10   \n",
       "1                0                           0   \n",
       "2               -5                         -27   \n",
       "3               -8                         -10   \n",
       "4               -3                         -25   \n",
       "\n",
       "   blueTotalJungleMinionsKilledDiff  blueEliteMonstersDiff  blueDragonsDiff  \\\n",
       "0                                19                      1                1   \n",
       "1                                12                      2                1   \n",
       "2                               -20                     -1               -1   \n",
       "3                               -17                     -1               -1   \n",
       "4                                -5                     -1               -1   \n",
       "\n",
       "   blueHeraldsDiff  blueTowersDestroyedDiff  blueWins  \n",
       "0                0                        0         1  \n",
       "1                0                        0         1  \n",
       "2                0                        0         1  \n",
       "3                0                        0         0  \n",
       "4                0                        0         1  "
      ]
     },
     "execution_count": 3,
     "metadata": {},
     "output_type": "execute_result"
    }
   ],
   "source": [
    "data.head()"
   ]
  },
  {
   "cell_type": "code",
   "execution_count": 4,
   "metadata": {},
   "outputs": [],
   "source": [
    "X = data.iloc[:, :-1]\n",
    "y = data['blueWins']"
   ]
  },
  {
   "cell_type": "code",
   "execution_count": 5,
   "metadata": {},
   "outputs": [
    {
     "data": {
      "text/plain": [
       "(6915, 15)"
      ]
     },
     "execution_count": 5,
     "metadata": {},
     "output_type": "execute_result"
    }
   ],
   "source": [
    "X.shape"
   ]
  },
  {
   "cell_type": "code",
   "execution_count": 6,
   "metadata": {},
   "outputs": [],
   "source": [
    "X_train, X_test, y_train, y_test = train_test_split(X, y, test_size=0.3, random_state=42)"
   ]
  },
  {
   "cell_type": "code",
   "execution_count": 7,
   "metadata": {},
   "outputs": [],
   "source": [
    "#Standardization\n",
    "sc = StandardScaler()\n",
    "X_train_std = sc.fit_transform(X_train)\n",
    "X_test_std = sc.transform(X_test)"
   ]
  },
  {
   "cell_type": "markdown",
   "metadata": {},
   "source": [
    "# Feature importances"
   ]
  },
  {
   "cell_type": "code",
   "execution_count": 8,
   "metadata": {},
   "outputs": [],
   "source": [
    "# use of forests of trees to evaluate the importance of features on an artificial classification task\n",
    "forest = ExtraTreesClassifier(n_estimators=200,random_state=42)\n",
    "forest.fit(X_train, y_train)\n",
    "importances = forest.feature_importances_\n",
    "std = np.std([tree.feature_importances_ for tree in forest.estimators_],\n",
    "             axis=0)\n",
    "indices = np.argsort(importances)[::-1]"
   ]
  },
  {
   "cell_type": "code",
   "execution_count": 9,
   "metadata": {},
   "outputs": [
    {
     "data": {
      "text/plain": [
       "Index(['blueFirstBlood', 'blueKills', 'blueDeaths', 'blueGoldDiff',\n",
       "       'blueExperienceDiff', 'blueWardsPlacedDiff', 'blueWardsDestroyedDiff',\n",
       "       'blueAvgLevelDiff', 'blueAssistsDiff', 'blueTotalMinionsKilledDiff',\n",
       "       'blueTotalJungleMinionsKilledDiff', 'blueEliteMonstersDiff',\n",
       "       'blueDragonsDiff', 'blueHeraldsDiff', 'blueTowersDestroyedDiff'],\n",
       "      dtype='object')"
      ]
     },
     "execution_count": 9,
     "metadata": {},
     "output_type": "execute_result"
    }
   ],
   "source": [
    "columns = data.columns[:-1]\n",
    "columns"
   ]
  },
  {
   "cell_type": "code",
   "execution_count": 10,
   "metadata": {},
   "outputs": [
    {
     "name": "stdout",
     "output_type": "stream",
     "text": [
      "1. feature blueGoldDiff (0.129797)\n",
      "2. feature blueExperienceDiff (0.121670)\n",
      "3. feature blueAvgLevelDiff (0.087944)\n",
      "4. feature blueAssistsDiff (0.085831)\n",
      "5. feature blueDeaths (0.082185)\n",
      "6. feature blueTotalMinionsKilledDiff (0.079467)\n",
      "7. feature blueKills (0.078096)\n",
      "8. feature blueTotalJungleMinionsKilledDiff (0.072183)\n",
      "9. feature blueWardsPlacedDiff (0.067786)\n",
      "10. feature blueWardsDestroyedDiff (0.065257)\n",
      "11. feature blueEliteMonstersDiff (0.042382)\n",
      "12. feature blueDragonsDiff (0.033358)\n",
      "13. feature blueFirstBlood (0.028509)\n",
      "14. feature blueTowersDestroyedDiff (0.014306)\n",
      "15. feature blueHeraldsDiff (0.011229)\n"
     ]
    }
   ],
   "source": [
    "for f in range(X.shape[1]):\n",
    "    print(\"%d. feature %s (%f)\" % (f + 1, columns[indices[f]], importances[indices[f]]))"
   ]
  },
  {
   "cell_type": "code",
   "execution_count": 11,
   "metadata": {},
   "outputs": [
    {
     "data": {
      "image/png": "[encoded data removed]",
      "text/plain": [
       "<Figure size 3240x576 with 1 Axes>"
      ]
     },
     "metadata": {
      "needs_background": "light"
     },
     "output_type": "display_data"
    }
   ],
   "source": [
    "# Plot the feature importances of the forest\n",
    "plt.figure(figsize=(45,8))\n",
    "plt.title(\"Feature importances\")\n",
    "plt.bar(range(X.shape[1]), importances[indices], color=\"r\", align=\"center\")\n",
    "plt.xticks(range(X.shape[1]), columns[indices])\n",
    "plt.xlim([-1, X.shape[1]])\n",
    "plt.show()\n"
   ]
  },
  {
   "cell_type": "code",
   "execution_count": 12,
   "metadata": {},
   "outputs": [],
   "source": [
    "forest = ExtraTreesClassifier(n_estimators=200,random_state=42)\n",
    "forest.fit(X_train_std, y_train)\n",
    "importances = forest.feature_importances_\n",
    "std = np.std([tree.feature_importances_ for tree in forest.estimators_],\n",
    "             axis=0)\n",
    "indices = np.argsort(importances)[::-1]"
   ]
  },
  {
   "cell_type": "code",
   "execution_count": 13,
   "metadata": {},
   "outputs": [
    {
     "name": "stdout",
     "output_type": "stream",
     "text": [
      "1. feature blueGoldDiff (0.129797)\n",
      "2. feature blueExperienceDiff (0.121670)\n",
      "3. feature blueAvgLevelDiff (0.087944)\n",
      "4. feature blueAssistsDiff (0.085831)\n",
      "5. feature blueDeaths (0.082185)\n",
      "6. feature blueTotalMinionsKilledDiff (0.079467)\n",
      "7. feature blueKills (0.078096)\n",
      "8. feature blueTotalJungleMinionsKilledDiff (0.072183)\n",
      "9. feature blueWardsPlacedDiff (0.067786)\n",
      "10. feature blueWardsDestroyedDiff (0.065257)\n",
      "11. feature blueEliteMonstersDiff (0.042382)\n",
      "12. feature blueDragonsDiff (0.033358)\n",
      "13. feature blueFirstBlood (0.028509)\n",
      "14. feature blueTowersDestroyedDiff (0.014306)\n",
      "15. feature blueHeraldsDiff (0.011229)\n"
     ]
    }
   ],
   "source": [
    "#Standardization did not effect importances\n",
    "for f in range(X_train_std.shape[1]):\n",
    "    print(\"%d. feature %s (%f)\" % (f + 1, columns[indices[f]], importances[indices[f]]))"
   ]
  },
  {
   "cell_type": "markdown",
   "metadata": {},
   "source": [
    "# Perceptron"
   ]
  },
  {
   "cell_type": "code",
   "execution_count": 14,
   "metadata": {},
   "outputs": [
    {
     "name": "stdout",
     "output_type": "stream",
     "text": [
      "Misclassified examples: 567\n",
      "Accuracy: 0.727\n"
     ]
    }
   ],
   "source": [
    "ppn = Perceptron(random_state=42)\n",
    "ppn.fit(X_train, y_train)\n",
    "y_pred = ppn.predict(X_test)\n",
    "print('Misclassified examples: %d' % (y_test != y_pred).sum())\n",
    "print('Accuracy: %.3f' % accuracy_score(y_test, y_pred))"
   ]
  },
  {
   "cell_type": "code",
   "execution_count": 15,
   "metadata": {},
   "outputs": [
    {
     "name": "stdout",
     "output_type": "stream",
     "text": [
      "Misclassified examples: 726\n",
      "Accuracy: 0.650\n"
     ]
    }
   ],
   "source": [
    "# test with stardeartion\n",
    "ppn = Perceptron(random_state=42)\n",
    "ppn.fit(X_train_std, y_train)\n",
    "y_pred = ppn.predict(X_test_std)\n",
    "print('Misclassified examples: %d' % (y_test != y_pred).sum())\n",
    "print('Accuracy: %.3f' % accuracy_score(y_test, y_pred))"
   ]
  },
  {
   "cell_type": "markdown",
   "metadata": {},
   "source": [
    "# LogisticRegression"
   ]
  },
  {
   "cell_type": "code",
   "execution_count": 16,
   "metadata": {},
   "outputs": [
    {
     "name": "stdout",
     "output_type": "stream",
     "text": [
      "              precision    recall  f1-score   support\n",
      "\n",
      "           0       0.74      0.71      0.72      1040\n",
      "           1       0.72      0.75      0.73      1035\n",
      "\n",
      "    accuracy                           0.73      2075\n",
      "   macro avg       0.73      0.73      0.73      2075\n",
      "weighted avg       0.73      0.73      0.73      2075\n",
      "\n",
      "Misclassified examples: 566\n",
      "Accuracy: 0.727\n"
     ]
    }
   ],
   "source": [
    "lr = LogisticRegression(solver = 'saga', max_iter = 10000)\n",
    "lr.fit(X_train,y_train)\n",
    "pred = lr.predict(X_test)\n",
    "print(classification_report(y_test, pred))\n",
    "print('Misclassified examples: %d' % (y_test != pred).sum())\n",
    "print('Accuracy: %.3f' % accuracy_score(y_test, pred))"
   ]
  },
  {
   "cell_type": "code",
   "execution_count": 17,
   "metadata": {},
   "outputs": [
    {
     "name": "stdout",
     "output_type": "stream",
     "text": [
      "              precision    recall  f1-score   support\n",
      "\n",
      "           0       0.73      0.69      0.71      1040\n",
      "           1       0.70      0.74      0.72      1035\n",
      "\n",
      "    accuracy                           0.71      2075\n",
      "   macro avg       0.72      0.71      0.71      2075\n",
      "weighted avg       0.72      0.71      0.71      2075\n",
      "\n",
      "Misclassified examples: 592\n",
      "Accuracy: 0.715\n"
     ]
    }
   ],
   "source": [
    "lr = LogisticRegression(solver = 'saga', max_iter = 10000)\n",
    "lr.fit(X_train_std,y_train)\n",
    "pred = lr.predict(X_test_std)\n",
    "print(classification_report(y_test, pred))\n",
    "print('Misclassified examples: %d' % (y_test != pred).sum())\n",
    "print('Accuracy: %.3f' % accuracy_score(y_test, pred))"
   ]
  },
  {
   "cell_type": "code",
   "execution_count": null,
   "metadata": {},
   "outputs": [],
   "source": []
  },
  {
   "cell_type": "code",
   "execution_count": null,
   "metadata": {},
   "outputs": [],
   "source": []
  },
  {
   "cell_type": "code",
   "execution_count": null,
   "metadata": {},
   "outputs": [],
   "source": []
  },
  {
   "cell_type": "code",
   "execution_count": null,
   "metadata": {},
   "outputs": [],
   "source": []
  },
  {
   "cell_type": "code",
   "execution_count": null,
   "metadata": {},
   "outputs": [],
   "source": []
  },
  {
   "cell_type": "code",
   "execution_count": null,
   "metadata": {},
   "outputs": [],
   "source": []
  }
 ],
 "metadata": {
  "kernelspec": {
   "display_name": "Python 3",
   "language": "python",
   "name": "python3"
  },
  "language_info": {
   "codemirror_mode": {
    "name": "ipython",
    "version": 3
   },
   "file_extension": ".py",
   "mimetype": "text/x-python",
   "name": "python",
   "nbconvert_exporter": "python",
   "pygments_lexer": "ipython3",
   "version": "3.7.6"
  }
 },
 "nbformat": 4,
 "nbformat_minor": 4
}
