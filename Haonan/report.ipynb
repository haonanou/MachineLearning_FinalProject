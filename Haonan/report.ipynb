{
 "cells": [
  {
   "cell_type": "code",
   "execution_count": 1,
   "metadata": {},
   "outputs": [],
   "source": [
    "import pandas as pd\n",
    "from matplotlib import pyplot as plt \n",
    "import seaborn as sns\n",
    "import numpy as np\n",
    "from pandas.plotting import scatter_matrix\n",
    "from sklearn.ensemble import ExtraTreesClassifier\n",
    "%matplotlib inline"
   ]
  },
  {
   "cell_type": "code",
   "execution_count": 2,
   "metadata": {},
   "outputs": [],
   "source": [
    "data = pd.read_csv(\"../datasets/high_diamond_ranked_10min.csv\")"
   ]
  },
  {
   "cell_type": "code",
   "execution_count": 3,
   "metadata": {},
   "outputs": [
    {
     "name": "stdout",
     "output_type": "stream",
     "text": [
      "<class 'pandas.core.frame.DataFrame'>\n",
      "RangeIndex: 9879 entries, 0 to 9878\n",
      "Data columns (total 40 columns):\n",
      " #   Column                        Non-Null Count  Dtype  \n",
      "---  ------                        --------------  -----  \n",
      " 0   gameId                        9879 non-null   int64  \n",
      " 1   blueWins                      9879 non-null   int64  \n",
      " 2   blueWardsPlaced               9879 non-null   int64  \n",
      " 3   blueWardsDestroyed            9879 non-null   int64  \n",
      " 4   blueFirstBlood                9879 non-null   int64  \n",
      " 5   blueKills                     9879 non-null   int64  \n",
      " 6   blueDeaths                    9879 non-null   int64  \n",
      " 7   blueAssists                   9879 non-null   int64  \n",
      " 8   blueEliteMonsters             9879 non-null   int64  \n",
      " 9   blueDragons                   9879 non-null   int64  \n",
      " 10  blueHeralds                   9879 non-null   int64  \n",
      " 11  blueTowersDestroyed           9879 non-null   int64  \n",
      " 12  blueTotalGold                 9879 non-null   int64  \n",
      " 13  blueAvgLevel                  9879 non-null   float64\n",
      " 14  blueTotalExperience           9879 non-null   int64  \n",
      " 15  blueTotalMinionsKilled        9879 non-null   int64  \n",
      " 16  blueTotalJungleMinionsKilled  9879 non-null   int64  \n",
      " 17  blueGoldDiff                  9879 non-null   int64  \n",
      " 18  blueExperienceDiff            9879 non-null   int64  \n",
      " 19  blueCSPerMin                  9879 non-null   float64\n",
      " 20  blueGoldPerMin                9879 non-null   float64\n",
      " 21  redWardsPlaced                9879 non-null   int64  \n",
      " 22  redWardsDestroyed             9879 non-null   int64  \n",
      " 23  redFirstBlood                 9879 non-null   int64  \n",
      " 24  redKills                      9879 non-null   int64  \n",
      " 25  redDeaths                     9879 non-null   int64  \n",
      " 26  redAssists                    9879 non-null   int64  \n",
      " 27  redEliteMonsters              9879 non-null   int64  \n",
      " 28  redDragons                    9879 non-null   int64  \n",
      " 29  redHeralds                    9879 non-null   int64  \n",
      " 30  redTowersDestroyed            9879 non-null   int64  \n",
      " 31  redTotalGold                  9879 non-null   int64  \n",
      " 32  redAvgLevel                   9879 non-null   float64\n",
      " 33  redTotalExperience            9879 non-null   int64  \n",
      " 34  redTotalMinionsKilled         9879 non-null   int64  \n",
      " 35  redTotalJungleMinionsKilled   9879 non-null   int64  \n",
      " 36  redGoldDiff                   9879 non-null   int64  \n",
      " 37  redExperienceDiff             9879 non-null   int64  \n",
      " 38  redCSPerMin                   9879 non-null   float64\n",
      " 39  redGoldPerMin                 9879 non-null   float64\n",
      "dtypes: float64(6), int64(34)\n",
      "memory usage: 3.0 MB\n"
     ]
    }
   ],
   "source": [
    "data.info()"
   ]
  },
  {
   "cell_type": "code",
   "execution_count": 4,
   "metadata": {},
   "outputs": [
    {
     "name": "stdout",
     "output_type": "stream",
     "text": [
      "<class 'pandas.core.frame.DataFrame'>\n",
      "RangeIndex: 9879 entries, 0 to 9878\n",
      "Data columns (total 26 columns):\n",
      " #   Column                        Non-Null Count  Dtype  \n",
      "---  ------                        --------------  -----  \n",
      " 0   blueWins                      9879 non-null   int64  \n",
      " 1   blueWardsPlaced               9879 non-null   int64  \n",
      " 2   blueWardsDestroyed            9879 non-null   int64  \n",
      " 3   blueFirstBlood                9879 non-null   int64  \n",
      " 4   blueKills                     9879 non-null   int64  \n",
      " 5   blueDeaths                    9879 non-null   int64  \n",
      " 6   blueAssists                   9879 non-null   int64  \n",
      " 7   blueEliteMonsters             9879 non-null   int64  \n",
      " 8   blueDragons                   9879 non-null   int64  \n",
      " 9   blueHeralds                   9879 non-null   int64  \n",
      " 10  blueTowersDestroyed           9879 non-null   int64  \n",
      " 11  blueAvgLevel                  9879 non-null   float64\n",
      " 12  blueTotalMinionsKilled        9879 non-null   int64  \n",
      " 13  blueTotalJungleMinionsKilled  9879 non-null   int64  \n",
      " 14  blueGoldDiff                  9879 non-null   int64  \n",
      " 15  blueExperienceDiff            9879 non-null   int64  \n",
      " 16  redWardsPlaced                9879 non-null   int64  \n",
      " 17  redWardsDestroyed             9879 non-null   int64  \n",
      " 18  redAssists                    9879 non-null   int64  \n",
      " 19  redEliteMonsters              9879 non-null   int64  \n",
      " 20  redDragons                    9879 non-null   int64  \n",
      " 21  redHeralds                    9879 non-null   int64  \n",
      " 22  redTowersDestroyed            9879 non-null   int64  \n",
      " 23  redAvgLevel                   9879 non-null   float64\n",
      " 24  redTotalMinionsKilled         9879 non-null   int64  \n",
      " 25  redTotalJungleMinionsKilled   9879 non-null   int64  \n",
      "dtypes: float64(2), int64(24)\n",
      "memory usage: 2.0 MB\n"
     ]
    }
   ],
   "source": [
    "data = data.drop(columns=['gameId', 'redGoldPerMin', 'redKills', 'redDeaths','blueGoldPerMin',\n",
    "                          'blueCSPerMin','redCSPerMin', 'redFirstBlood','redGoldDiff','blueTotalExperience',\n",
    "                         'redExperienceDiff', 'blueTotalGold', 'redTotalGold', 'redTotalExperience'])\n",
    "\n",
    "data.info()\n"
   ]
  },
  {
   "cell_type": "code",
   "execution_count": 5,
   "metadata": {},
   "outputs": [],
   "source": [
    "# reduce column by create differcence between each columns\n",
    "data['blueWardsPlacedDiff'] = data['blueWardsPlaced'] - data['redWardsPlaced'] \n",
    "data['blueWardsDestroyedDiff'] = data['blueWardsDestroyed'] - data['redWardsDestroyed']\n",
    "data['blueAvgLevelDiff'] = data['blueAvgLevel'] - data['redAvgLevel'] \n",
    "data['blueAssistsDiff'] = data['blueAssists'] - data['redAssists'] \n",
    "data['blueTotalMinionsKilledDiff'] = data['blueTotalMinionsKilled'] - data['redTotalMinionsKilled']\n",
    "data['blueTotalJungleMinionsKilledDiff'] = data['blueTotalJungleMinionsKilled'] - data['redTotalJungleMinionsKilled'] \n",
    "data['blueEliteMonstersDiff'] = data['blueEliteMonsters'] - data['redEliteMonsters']\n",
    "data['blueDragonsDiff'] = data['blueDragons'] - data['redDragons'] \n",
    "data['blueHeraldsDiff'] = data['blueHeralds'] = data['redHeralds'] \n",
    "data['blueTowersDestroyedDiff'] = data['blueTowersDestroyed'] - data['redTowersDestroyed']"
   ]
  },
  {
   "cell_type": "code",
   "execution_count": 6,
   "metadata": {},
   "outputs": [
    {
     "name": "stdout",
     "output_type": "stream",
     "text": [
      "<class 'pandas.core.frame.DataFrame'>\n",
      "RangeIndex: 9879 entries, 0 to 9878\n",
      "Data columns (total 16 columns):\n",
      " #   Column                            Non-Null Count  Dtype  \n",
      "---  ------                            --------------  -----  \n",
      " 0   blueWins                          9879 non-null   int64  \n",
      " 1   blueFirstBlood                    9879 non-null   int64  \n",
      " 2   blueKills                         9879 non-null   int64  \n",
      " 3   blueDeaths                        9879 non-null   int64  \n",
      " 4   blueGoldDiff                      9879 non-null   int64  \n",
      " 5   blueExperienceDiff                9879 non-null   int64  \n",
      " 6   blueWardsPlacedDiff               9879 non-null   int64  \n",
      " 7   blueWardsDestroyedDiff            9879 non-null   int64  \n",
      " 8   blueAvgLevelDiff                  9879 non-null   float64\n",
      " 9   blueAssistsDiff                   9879 non-null   int64  \n",
      " 10  blueTotalMinionsKilledDiff        9879 non-null   int64  \n",
      " 11  blueTotalJungleMinionsKilledDiff  9879 non-null   int64  \n",
      " 12  blueEliteMonstersDiff             9879 non-null   int64  \n",
      " 13  blueDragonsDiff                   9879 non-null   int64  \n",
      " 14  blueHeraldsDiff                   9879 non-null   int64  \n",
      " 15  blueTowersDestroyedDiff           9879 non-null   int64  \n",
      "dtypes: float64(1), int64(15)\n",
      "memory usage: 1.2 MB\n"
     ]
    }
   ],
   "source": [
    "data = data.drop(columns= ['blueWardsPlaced','redWardsPlaced','blueWardsDestroyed', 'redWardsDestroyed',\n",
    "'blueAvgLevel', 'redAvgLevel','blueAssists','redAssists', 'blueTotalMinionsKilled','redTotalMinionsKilled',\n",
    "'blueTotalJungleMinionsKilled','redTotalJungleMinionsKilled',\n",
    "'blueEliteMonsters', 'redEliteMonsters','redDragons', 'blueDragons', 'blueHeralds', \n",
    "                            'redHeralds','blueTowersDestroyed','redTowersDestroyed']) \n",
    "data.info()"
   ]
  },
  {
   "cell_type": "code",
   "execution_count": 7,
   "metadata": {},
   "outputs": [
    {
     "data": {
      "image/png": "[encoded data removed]",
      "text/plain": [
       "<Figure size 432x288 with 1 Axes>"
      ]
     },
     "metadata": {
      "needs_background": "light"
     },
     "output_type": "display_data"
    }
   ],
   "source": [
    "sns.countplot(data['blueTowersDestroyedDiff'])\n",
    "plt.ylabel('number of games', size=15)\n",
    "plt.title('the difference number of TowerDestroyed between the blue and red team', size=15)\n",
    "plt.xlabel('')\n",
    "plt.show()"
   ]
  },
  {
   "cell_type": "code",
   "execution_count": 8,
   "metadata": {},
   "outputs": [
    {
     "data": {
      "image/png": "[encoded data removed]",
      "text/plain": [
       "<Figure size 432x288 with 1 Axes>"
      ]
     },
     "metadata": {
      "needs_background": "light"
     },
     "output_type": "display_data"
    }
   ],
   "source": [
    "sns.countplot(data['blueHeraldsDiff'], hue = data['blueWins'])\n",
    "plt.ylabel('number of games', size=15)\n",
    "plt.title('the difference number of Herald between the blue and red team', size=15)\n",
    "plt.xlabel('')\n",
    "plt.show()"
   ]
  },
  {
   "cell_type": "code",
   "execution_count": 9,
   "metadata": {},
   "outputs": [
    {
     "data": {
      "image/png": "[encoded data removed]",
      "text/plain": [
       "<Figure size 432x288 with 1 Axes>"
      ]
     },
     "metadata": {
      "needs_background": "light"
     },
     "output_type": "display_data"
    }
   ],
   "source": [
    "sns.countplot(data['blueDragonsDiff'], hue = data['blueWins'])\n",
    "plt.ylabel('number of games', size=15)\n",
    "plt.title('the difference number of Dragons between the blue and red team', size=15)\n",
    "plt.xlabel('')\n",
    "plt.show()"
   ]
  },
  {
   "cell_type": "code",
   "execution_count": 10,
   "metadata": {},
   "outputs": [
    {
     "data": {
      "text/plain": [
       "4081"
      ]
     },
     "execution_count": 10,
     "metadata": {},
     "output_type": "execute_result"
    }
   ],
   "source": [
    "len(data[data['blueDragonsDiff'] == -1])"
   ]
  },
  {
   "cell_type": "code",
   "execution_count": 11,
   "metadata": {},
   "outputs": [
    {
     "data": {
      "text/plain": [
       "9879"
      ]
     },
     "execution_count": 11,
     "metadata": {},
     "output_type": "execute_result"
    }
   ],
   "source": [
    "len(data)"
   ]
  },
  {
   "cell_type": "code",
   "execution_count": 12,
   "metadata": {},
   "outputs": [
    {
     "data": {
      "text/plain": [
       "0.3619799574855755"
      ]
     },
     "execution_count": 12,
     "metadata": {},
     "output_type": "execute_result"
    }
   ],
   "source": [
    "len(data[data['blueDragonsDiff'] == 1])/ len(data)"
   ]
  },
  {
   "cell_type": "code",
   "execution_count": 13,
   "metadata": {},
   "outputs": [
    {
     "name": "stdout",
     "output_type": "stream",
     "text": [
      "<class 'pandas.core.frame.DataFrame'>\n",
      "RangeIndex: 9879 entries, 0 to 9878\n",
      "Data columns (total 13 columns):\n",
      " #   Column                            Non-Null Count  Dtype  \n",
      "---  ------                            --------------  -----  \n",
      " 0   blueWins                          9879 non-null   int64  \n",
      " 1   blueFirstBlood                    9879 non-null   int64  \n",
      " 2   blueKills                         9879 non-null   int64  \n",
      " 3   blueDeaths                        9879 non-null   int64  \n",
      " 4   blueGoldDiff                      9879 non-null   int64  \n",
      " 5   blueExperienceDiff                9879 non-null   int64  \n",
      " 6   blueWardsPlacedDiff               9879 non-null   int64  \n",
      " 7   blueWardsDestroyedDiff            9879 non-null   int64  \n",
      " 8   blueAvgLevelDiff                  9879 non-null   float64\n",
      " 9   blueAssistsDiff                   9879 non-null   int64  \n",
      " 10  blueTotalMinionsKilledDiff        9879 non-null   int64  \n",
      " 11  blueTotalJungleMinionsKilledDiff  9879 non-null   int64  \n",
      " 12  blueDragonsDiff                   9879 non-null   int64  \n",
      "dtypes: float64(1), int64(12)\n",
      "memory usage: 1003.5 KB\n"
     ]
    }
   ],
   "source": [
    "data = data.drop(columns= ['blueEliteMonstersDiff', 'blueHeraldsDiff', 'blueTowersDestroyedDiff' ]) \n",
    "data.info()"
   ]
  },
  {
   "cell_type": "code",
   "execution_count": 14,
   "metadata": {},
   "outputs": [],
   "source": [
    "np.random.seed(42)"
   ]
  },
  {
   "cell_type": "code",
   "execution_count": 15,
   "metadata": {},
   "outputs": [
    {
     "data": {
      "image/png": "[encoded data removed]",
      "text/plain": [
       "<Figure size 576x360 with 1 Axes>"
      ]
     },
     "metadata": {
      "needs_background": "light"
     },
     "output_type": "display_data"
    }
   ],
   "source": [
    "df_sample= data.sample(1000,random_state=42)\n",
    "plt.figure(figsize=(8,5))\n",
    "sns.scatterplot(df_sample['blueGoldDiff'], df_sample['blueExperienceDiff'], hue=data['blueWins'], alpha=0.5, s=10)\n",
    "plt.title('blue team gold difference and experience difference')\n",
    "plt.show()"
   ]
  },
  {
   "cell_type": "code",
   "execution_count": 16,
   "metadata": {},
   "outputs": [
    {
     "data": {
      "text/plain": [
       "blueWins                            1.000000\n",
       "blueGoldDiff                        0.511119\n",
       "blueExperienceDiff                  0.489558\n",
       "blueAvgLevelDiff                    0.452927\n",
       "blueAssistsDiff                     0.385866\n",
       "blueKills                           0.337358\n",
       "blueTotalMinionsKilledDiff          0.309126\n",
       "blueDragonsDiff                     0.234264\n",
       "blueFirstBlood                      0.201769\n",
       "blueTotalJungleMinionsKilledDiff    0.169118\n",
       "blueWardsDestroyedDiff              0.075205\n",
       "blueWardsPlacedDiff                 0.016890\n",
       "blueDeaths                         -0.339297\n",
       "Name: blueWins, dtype: float64"
      ]
     },
     "execution_count": 16,
     "metadata": {},
     "output_type": "execute_result"
    }
   ],
   "source": [
    "corr = data.corr()\n",
    "corr['blueWins'].sort_values(ascending=False)"
   ]
  },
  {
   "cell_type": "code",
   "execution_count": 17,
   "metadata": {},
   "outputs": [
    {
     "data": {
      "text/plain": [
       "['blueFirstBlood',\n",
       " 'blueKills',\n",
       " 'blueDeaths',\n",
       " 'blueGoldDiff',\n",
       " 'blueExperienceDiff',\n",
       " 'blueAvgLevelDiff',\n",
       " 'blueAssistsDiff',\n",
       " 'blueTotalMinionsKilledDiff',\n",
       " 'blueDragonsDiff']"
      ]
     },
     "execution_count": 17,
     "metadata": {},
     "output_type": "execute_result"
    }
   ],
   "source": [
    "corr_list = data[data.columns[1:]].apply(lambda x: x.corr(data['blueWins']))\n",
    "cols = []\n",
    "for col in corr_list.index:\n",
    "    if (corr_list[col]>0.2 or corr_list[col]<-0.2):\n",
    "        cols.append(col)\n",
    "cols"
   ]
  },
  {
   "cell_type": "code",
   "execution_count": 18,
   "metadata": {},
   "outputs": [],
   "source": [
    "from sklearn.model_selection import train_test_split\n",
    "\n",
    "y = data['blueWins']\n",
    "X = data.loc[:, data.columns != 'blueWins']\n",
    "X_train, X_test, y_train, y_test = train_test_split(X, y, test_size=0.3,random_state=42)\n",
    "\n",
    "test_df = pd.concat([X_test, y_test], axis=1) \n",
    "train_df = pd.concat([X_train, y_train], axis=1)\n",
    "\n",
    "\n",
    "\n",
    "\n",
    "train_df.to_csv('train.csv', index = False) \n",
    "test_df.to_csv('test.csv', index = False)"
   ]
  },
  {
   "cell_type": "code",
   "execution_count": 19,
   "metadata": {},
   "outputs": [],
   "source": [
    "train_data = pd.read_csv(\"../datasets/train.csv\")\n",
    "test_data = pd.read_csv(\"../datasets/test.csv\")"
   ]
  },
  {
   "cell_type": "code",
   "execution_count": 20,
   "metadata": {},
   "outputs": [
    {
     "name": "stdout",
     "output_type": "stream",
     "text": [
      "<class 'pandas.core.frame.DataFrame'>\n",
      "RangeIndex: 6915 entries, 0 to 6914\n",
      "Data columns (total 13 columns):\n",
      " #   Column                            Non-Null Count  Dtype  \n",
      "---  ------                            --------------  -----  \n",
      " 0   blueFirstBlood                    6915 non-null   int64  \n",
      " 1   blueKills                         6915 non-null   int64  \n",
      " 2   blueDeaths                        6915 non-null   int64  \n",
      " 3   blueGoldDiff                      6915 non-null   int64  \n",
      " 4   blueExperienceDiff                6915 non-null   int64  \n",
      " 5   blueWardsPlacedDiff               6915 non-null   int64  \n",
      " 6   blueWardsDestroyedDiff            6915 non-null   int64  \n",
      " 7   blueAvgLevelDiff                  6915 non-null   float64\n",
      " 8   blueAssistsDiff                   6915 non-null   int64  \n",
      " 9   blueTotalMinionsKilledDiff        6915 non-null   int64  \n",
      " 10  blueTotalJungleMinionsKilledDiff  6915 non-null   int64  \n",
      " 11  blueDragonsDiff                   6915 non-null   int64  \n",
      " 12  blueWins                          6915 non-null   int64  \n",
      "dtypes: float64(1), int64(12)\n",
      "memory usage: 702.4 KB\n"
     ]
    }
   ],
   "source": [
    "train_data.info()"
   ]
  },
  {
   "cell_type": "code",
   "execution_count": 21,
   "metadata": {},
   "outputs": [],
   "source": [
    "X = data.iloc[:, 1:]\n",
    "y = data['blueWins']"
   ]
  },
  {
   "cell_type": "code",
   "execution_count": 22,
   "metadata": {},
   "outputs": [
    {
     "name": "stdout",
     "output_type": "stream",
     "text": [
      "<class 'pandas.core.frame.DataFrame'>\n",
      "RangeIndex: 9879 entries, 0 to 9878\n",
      "Data columns (total 12 columns):\n",
      " #   Column                            Non-Null Count  Dtype  \n",
      "---  ------                            --------------  -----  \n",
      " 0   blueFirstBlood                    9879 non-null   int64  \n",
      " 1   blueKills                         9879 non-null   int64  \n",
      " 2   blueDeaths                        9879 non-null   int64  \n",
      " 3   blueGoldDiff                      9879 non-null   int64  \n",
      " 4   blueExperienceDiff                9879 non-null   int64  \n",
      " 5   blueWardsPlacedDiff               9879 non-null   int64  \n",
      " 6   blueWardsDestroyedDiff            9879 non-null   int64  \n",
      " 7   blueAvgLevelDiff                  9879 non-null   float64\n",
      " 8   blueAssistsDiff                   9879 non-null   int64  \n",
      " 9   blueTotalMinionsKilledDiff        9879 non-null   int64  \n",
      " 10  blueTotalJungleMinionsKilledDiff  9879 non-null   int64  \n",
      " 11  blueDragonsDiff                   9879 non-null   int64  \n",
      "dtypes: float64(1), int64(11)\n",
      "memory usage: 926.3 KB\n"
     ]
    }
   ],
   "source": [
    "X.info()"
   ]
  },
  {
   "cell_type": "code",
   "execution_count": 23,
   "metadata": {},
   "outputs": [
    {
     "data": {
      "text/html": [
       "<div>\n",
       "<style scoped>\n",
       "    .dataframe tbody tr th:only-of-type {\n",
       "        vertical-align: middle;\n",
       "    }\n",
       "\n",
       "    .dataframe tbody tr th {\n",
       "        vertical-align: top;\n",
       "    }\n",
       "\n",
       "    .dataframe thead th {\n",
       "        text-align: right;\n",
       "    }\n",
       "</style>\n",
       "<table border=\"1\" class=\"dataframe\">\n",
       "  <thead>\n",
       "    <tr style=\"text-align: right;\">\n",
       "      <th></th>\n",
       "      <th>blueFirstBlood</th>\n",
       "      <th>blueKills</th>\n",
       "      <th>blueDeaths</th>\n",
       "      <th>blueGoldDiff</th>\n",
       "      <th>blueExperienceDiff</th>\n",
       "      <th>blueWardsPlacedDiff</th>\n",
       "      <th>blueWardsDestroyedDiff</th>\n",
       "      <th>blueAvgLevelDiff</th>\n",
       "      <th>blueAssistsDiff</th>\n",
       "      <th>blueTotalMinionsKilledDiff</th>\n",
       "      <th>blueTotalJungleMinionsKilledDiff</th>\n",
       "      <th>blueDragonsDiff</th>\n",
       "      <th>blueWins</th>\n",
       "    </tr>\n",
       "  </thead>\n",
       "  <tbody>\n",
       "    <tr>\n",
       "      <th>0</th>\n",
       "      <td>1</td>\n",
       "      <td>11</td>\n",
       "      <td>9</td>\n",
       "      <td>1433</td>\n",
       "      <td>508</td>\n",
       "      <td>-11</td>\n",
       "      <td>5</td>\n",
       "      <td>0.2</td>\n",
       "      <td>2</td>\n",
       "      <td>21</td>\n",
       "      <td>-8</td>\n",
       "      <td>-1</td>\n",
       "      <td>1</td>\n",
       "    </tr>\n",
       "    <tr>\n",
       "      <th>1</th>\n",
       "      <td>0</td>\n",
       "      <td>6</td>\n",
       "      <td>4</td>\n",
       "      <td>533</td>\n",
       "      <td>1187</td>\n",
       "      <td>-2</td>\n",
       "      <td>0</td>\n",
       "      <td>0.4</td>\n",
       "      <td>1</td>\n",
       "      <td>-1</td>\n",
       "      <td>-21</td>\n",
       "      <td>1</td>\n",
       "      <td>0</td>\n",
       "    </tr>\n",
       "    <tr>\n",
       "      <th>2</th>\n",
       "      <td>0</td>\n",
       "      <td>3</td>\n",
       "      <td>4</td>\n",
       "      <td>3156</td>\n",
       "      <td>3919</td>\n",
       "      <td>4</td>\n",
       "      <td>-1</td>\n",
       "      <td>1.2</td>\n",
       "      <td>-3</td>\n",
       "      <td>59</td>\n",
       "      <td>28</td>\n",
       "      <td>1</td>\n",
       "      <td>1</td>\n",
       "    </tr>\n",
       "    <tr>\n",
       "      <th>3</th>\n",
       "      <td>0</td>\n",
       "      <td>2</td>\n",
       "      <td>9</td>\n",
       "      <td>-3084</td>\n",
       "      <td>-1719</td>\n",
       "      <td>-6</td>\n",
       "      <td>-2</td>\n",
       "      <td>-0.6</td>\n",
       "      <td>-7</td>\n",
       "      <td>-30</td>\n",
       "      <td>-4</td>\n",
       "      <td>-1</td>\n",
       "      <td>0</td>\n",
       "    </tr>\n",
       "    <tr>\n",
       "      <th>4</th>\n",
       "      <td>0</td>\n",
       "      <td>3</td>\n",
       "      <td>7</td>\n",
       "      <td>-2825</td>\n",
       "      <td>-2497</td>\n",
       "      <td>-7</td>\n",
       "      <td>-1</td>\n",
       "      <td>-0.4</td>\n",
       "      <td>-5</td>\n",
       "      <td>-14</td>\n",
       "      <td>-21</td>\n",
       "      <td>-1</td>\n",
       "      <td>0</td>\n",
       "    </tr>\n",
       "    <tr>\n",
       "      <th>...</th>\n",
       "      <td>...</td>\n",
       "      <td>...</td>\n",
       "      <td>...</td>\n",
       "      <td>...</td>\n",
       "      <td>...</td>\n",
       "      <td>...</td>\n",
       "      <td>...</td>\n",
       "      <td>...</td>\n",
       "      <td>...</td>\n",
       "      <td>...</td>\n",
       "      <td>...</td>\n",
       "      <td>...</td>\n",
       "      <td>...</td>\n",
       "    </tr>\n",
       "    <tr>\n",
       "      <th>6910</th>\n",
       "      <td>1</td>\n",
       "      <td>11</td>\n",
       "      <td>9</td>\n",
       "      <td>2249</td>\n",
       "      <td>2480</td>\n",
       "      <td>5</td>\n",
       "      <td>2</td>\n",
       "      <td>0.4</td>\n",
       "      <td>5</td>\n",
       "      <td>12</td>\n",
       "      <td>8</td>\n",
       "      <td>1</td>\n",
       "      <td>1</td>\n",
       "    </tr>\n",
       "    <tr>\n",
       "      <th>6911</th>\n",
       "      <td>1</td>\n",
       "      <td>6</td>\n",
       "      <td>8</td>\n",
       "      <td>-407</td>\n",
       "      <td>-1257</td>\n",
       "      <td>-35</td>\n",
       "      <td>-1</td>\n",
       "      <td>-0.4</td>\n",
       "      <td>-2</td>\n",
       "      <td>-20</td>\n",
       "      <td>13</td>\n",
       "      <td>-1</td>\n",
       "      <td>1</td>\n",
       "    </tr>\n",
       "    <tr>\n",
       "      <th>6912</th>\n",
       "      <td>0</td>\n",
       "      <td>11</td>\n",
       "      <td>5</td>\n",
       "      <td>2840</td>\n",
       "      <td>1792</td>\n",
       "      <td>8</td>\n",
       "      <td>1</td>\n",
       "      <td>0.2</td>\n",
       "      <td>2</td>\n",
       "      <td>-1</td>\n",
       "      <td>-8</td>\n",
       "      <td>-1</td>\n",
       "      <td>1</td>\n",
       "    </tr>\n",
       "    <tr>\n",
       "      <th>6913</th>\n",
       "      <td>1</td>\n",
       "      <td>4</td>\n",
       "      <td>5</td>\n",
       "      <td>-527</td>\n",
       "      <td>-208</td>\n",
       "      <td>-46</td>\n",
       "      <td>2</td>\n",
       "      <td>0.0</td>\n",
       "      <td>-4</td>\n",
       "      <td>25</td>\n",
       "      <td>-31</td>\n",
       "      <td>-1</td>\n",
       "      <td>0</td>\n",
       "    </tr>\n",
       "    <tr>\n",
       "      <th>6914</th>\n",
       "      <td>0</td>\n",
       "      <td>5</td>\n",
       "      <td>7</td>\n",
       "      <td>-1127</td>\n",
       "      <td>-2006</td>\n",
       "      <td>23</td>\n",
       "      <td>2</td>\n",
       "      <td>-0.2</td>\n",
       "      <td>1</td>\n",
       "      <td>-6</td>\n",
       "      <td>-11</td>\n",
       "      <td>0</td>\n",
       "      <td>0</td>\n",
       "    </tr>\n",
       "  </tbody>\n",
       "</table>\n",
       "<p>6915 rows × 13 columns</p>\n",
       "</div>"
      ],
      "text/plain": [
       "      blueFirstBlood  blueKills  blueDeaths  blueGoldDiff  blueExperienceDiff  \\\n",
       "0                  1         11           9          1433                 508   \n",
       "1                  0          6           4           533                1187   \n",
       "2                  0          3           4          3156                3919   \n",
       "3                  0          2           9         -3084               -1719   \n",
       "4                  0          3           7         -2825               -2497   \n",
       "...              ...        ...         ...           ...                 ...   \n",
       "6910               1         11           9          2249                2480   \n",
       "6911               1          6           8          -407               -1257   \n",
       "6912               0         11           5          2840                1792   \n",
       "6913               1          4           5          -527                -208   \n",
       "6914               0          5           7         -1127               -2006   \n",
       "\n",
       "      blueWardsPlacedDiff  blueWardsDestroyedDiff  blueAvgLevelDiff  \\\n",
       "0                     -11                       5               0.2   \n",
       "1                      -2                       0               0.4   \n",
       "2                       4                      -1               1.2   \n",
       "3                      -6                      -2              -0.6   \n",
       "4                      -7                      -1              -0.4   \n",
       "...                   ...                     ...               ...   \n",
       "6910                    5                       2               0.4   \n",
       "6911                  -35                      -1              -0.4   \n",
       "6912                    8                       1               0.2   \n",
       "6913                  -46                       2               0.0   \n",
       "6914                   23                       2              -0.2   \n",
       "\n",
       "      blueAssistsDiff  blueTotalMinionsKilledDiff  \\\n",
       "0                   2                          21   \n",
       "1                   1                          -1   \n",
       "2                  -3                          59   \n",
       "3                  -7                         -30   \n",
       "4                  -5                         -14   \n",
       "...               ...                         ...   \n",
       "6910                5                          12   \n",
       "6911               -2                         -20   \n",
       "6912                2                          -1   \n",
       "6913               -4                          25   \n",
       "6914                1                          -6   \n",
       "\n",
       "      blueTotalJungleMinionsKilledDiff  blueDragonsDiff  blueWins  \n",
       "0                                   -8               -1         1  \n",
       "1                                  -21                1         0  \n",
       "2                                   28                1         1  \n",
       "3                                   -4               -1         0  \n",
       "4                                  -21               -1         0  \n",
       "...                                ...              ...       ...  \n",
       "6910                                 8                1         1  \n",
       "6911                                13               -1         1  \n",
       "6912                                -8               -1         1  \n",
       "6913                               -31               -1         0  \n",
       "6914                               -11                0         0  \n",
       "\n",
       "[6915 rows x 13 columns]"
      ]
     },
     "execution_count": 23,
     "metadata": {},
     "output_type": "execute_result"
    }
   ],
   "source": [
    "train_data"
   ]
  },
  {
   "cell_type": "code",
   "execution_count": 24,
   "metadata": {},
   "outputs": [],
   "source": [
    "X_train = train_data.iloc[:, :-1]\n",
    "y_train = train_data['blueWins']\n",
    "X_test = test_data.iloc[:, :-1]\n",
    "y_test = test_data['blueWins']"
   ]
  },
  {
   "cell_type": "code",
   "execution_count": 25,
   "metadata": {},
   "outputs": [],
   "source": [
    "#normalization\n",
    "from sklearn.preprocessing import MinMaxScaler\n",
    "mms = MinMaxScaler()\n",
    "X_train_norm = mms.fit_transform(X_train)\n",
    "X_test_norm = mms.transform(X_test)"
   ]
  },
  {
   "cell_type": "code",
   "execution_count": 26,
   "metadata": {},
   "outputs": [],
   "source": [
    "from sklearn.preprocessing import StandardScaler\n",
    "stdsc = StandardScaler()\n",
    "X_train_std = stdsc.fit_transform(X_train)\n",
    "X_test_std = stdsc.transform(X_test)"
   ]
  },
  {
   "cell_type": "code",
   "execution_count": 27,
   "metadata": {},
   "outputs": [
    {
     "name": "stdout",
     "output_type": "stream",
     "text": [
      "Training accuracy: 0.7360809833694866\n",
      "Test accuracy: 0.7338056680161943\n"
     ]
    }
   ],
   "source": [
    "from sklearn.linear_model import LogisticRegression\n",
    "lr = LogisticRegression(penalty='l1', solver = 'saga')\n",
    "lr.fit(X_train_std, y_train)\n",
    "print('Training accuracy:', lr.score(X_train_std, y_train))\n",
    "\n",
    "print('Test accuracy:', lr.score(X_test_std, y_test))"
   ]
  },
  {
   "cell_type": "code",
   "execution_count": 28,
   "metadata": {},
   "outputs": [],
   "source": [
    "from sklearn.base import clone\n",
    "from itertools import combinations\n",
    "import numpy as np\n",
    "from sklearn.metrics import accuracy_score\n",
    "from sklearn.model_selection import train_test_split\n",
    "class SBS():\n",
    "    def __init__(self, estimator, k_features,\n",
    "                 scoring=accuracy_score,\n",
    "                 test_size=0.25, random_state=1):\n",
    "        self.scoring = scoring\n",
    "        self.estimator = clone(estimator)\n",
    "        self.k_features = k_features\n",
    "        self.test_size = test_size\n",
    "        self.random_state = random_state\n",
    "    def fit(self, X, y):\n",
    "        X_train, X_test, y_train, y_test = \\\n",
    "            train_test_split(X, y, test_size=self.test_size,\n",
    "                             random_state=self.random_state)\n",
    "    \n",
    "        dim = X_train.shape[1]\n",
    "        self.indices_ = tuple(range(dim))\n",
    "        self.subsets_ = [self.indices_]\n",
    "        score = self._calc_score(X_train, y_train,\n",
    "                                 X_test, y_test, self.indices_)\n",
    "        self.scores_ = [score]\n",
    "        while dim > self.k_features:\n",
    "            scores = []\n",
    "            subsets = []\n",
    "            \n",
    "            for p in combinations(self.indices_, r=dim - 1):\n",
    "                score = self._calc_score(X_train, y_train,\n",
    "                                         X_test, y_test, p)\n",
    "                scores.append(score)\n",
    "                subsets.append(p)\n",
    "                \n",
    "            best = np.argmax(scores)\n",
    "            self.indices_ = subsets[best]\n",
    "            self.subsets_.append(self.indices_)\n",
    "            dim -= 1\n",
    "            \n",
    "            self.scores_.append(scores[best])\n",
    "        self.k_score_ = self.scores_[-1]\n",
    "        \n",
    "        return self\n",
    "        \n",
    "    def transform(self, X):\n",
    "        return X[:, self.indices_]\n",
    "    \n",
    "    def _calc_score(self, X_train, y_train, X_test, y_test, indices):\n",
    "        self.estimator.fit(X_train[:, indices], y_train)\n",
    "        y_pred = self.estimator.predict(X_test[:, indices])\n",
    "        score = self.scoring(y_test, y_pred)\n",
    "        return score"
   ]
  },
  {
   "cell_type": "code",
   "execution_count": 29,
   "metadata": {},
   "outputs": [
    {
     "data": {
      "text/plain": [
       "<__main__.SBS at 0x1a18439ad0>"
      ]
     },
     "execution_count": 29,
     "metadata": {},
     "output_type": "execute_result"
    }
   ],
   "source": [
    "from sklearn.neighbors import KNeighborsClassifier\n",
    "\n",
    "knn = KNeighborsClassifier(n_neighbors=5)\n",
    "sbs = SBS(knn, k_features=1)\n",
    "sbs.fit(X_train_std, y_train)"
   ]
  },
  {
   "cell_type": "code",
   "execution_count": 30,
   "metadata": {
    "scrolled": false
   },
   "outputs": [
    {
     "data": {
      "image/png": "[encoded data removed]",
      "text/plain": [
       "<Figure size 432x288 with 1 Axes>"
      ]
     },
     "metadata": {
      "needs_background": "light"
     },
     "output_type": "display_data"
    }
   ],
   "source": [
    "k_feat = [len(k) for k in sbs.subsets_]\n",
    "plt.plot(k_feat, sbs.scores_, marker='o')\n",
    "plt.ylim([0, 1])\n",
    "plt.ylabel('Accuracy')\n",
    "plt.xlabel('Number of features')\n",
    "plt.grid()\n",
    "plt.tight_layout()\n",
    "plt.show()"
   ]
  },
  {
   "cell_type": "code",
   "execution_count": 31,
   "metadata": {},
   "outputs": [
    {
     "name": "stdout",
     "output_type": "stream",
     "text": [
      "Index(['blueKills', 'blueDeaths', 'blueGoldDiff', 'blueExperienceDiff',\n",
      "       'blueWardsPlacedDiff', 'blueWardsDestroyedDiff'],\n",
      "      dtype='object')\n"
     ]
    }
   ],
   "source": [
    "k3 = list(sbs.subsets_[6])\n",
    "print(X_train.columns[0:][k3])"
   ]
  },
  {
   "cell_type": "code",
   "execution_count": 32,
   "metadata": {},
   "outputs": [
    {
     "name": "stdout",
     "output_type": "stream",
     "text": [
      "Training accuracy: 0.7768618944323934\n",
      "Test accuracy: 0.6774628879892037\n"
     ]
    }
   ],
   "source": [
    "knn.fit(X_train_std, y_train)\n",
    "print('Training accuracy:', knn.score(X_train_std, y_train))\n",
    "print('Test accuracy:', knn.score(X_test_std, y_test))"
   ]
  },
  {
   "cell_type": "code",
   "execution_count": 33,
   "metadata": {},
   "outputs": [
    {
     "name": "stdout",
     "output_type": "stream",
     "text": [
      "Training accuracy: 0.7838033261026753\n",
      "Test accuracy: 0.6821862348178138\n"
     ]
    }
   ],
   "source": [
    "knn.fit(X_train_std[:, k3], y_train)\n",
    "print('Training accuracy:',knn.score(X_train_std[:, k3], y_train))\n",
    "print('Test accuracy:',knn.score(X_test_std[:, k3], y_test))"
   ]
  },
  {
   "cell_type": "code",
   "execution_count": 34,
   "metadata": {},
   "outputs": [
    {
     "name": "stdout",
     "output_type": "stream",
     "text": [
      " 1) blueGoldDiff                   0.205841\n",
      " 2) blueExperienceDiff             0.169935\n",
      " 3) blueTotalMinionsKilledDiff     0.093414\n",
      " 4) blueTotalJungleMinionsKilledDiff 0.083268\n",
      " 5) blueAssistsDiff                0.080680\n",
      " 6) blueWardsPlacedDiff            0.080579\n",
      " 7) blueAvgLevelDiff               0.073836\n",
      " 8) blueDeaths                     0.058961\n",
      " 9) blueKills                      0.058046\n",
      "10) blueWardsDestroyedDiff         0.054007\n",
      "11) blueDragonsDiff                0.026809\n",
      "12) blueFirstBlood                 0.014625\n"
     ]
    },
    {
     "data": {
      "image/png": "[encoded data removed]",
      "text/plain": [
       "<Figure size 720x360 with 1 Axes>"
      ]
     },
     "metadata": {
      "needs_background": "light"
     },
     "output_type": "display_data"
    }
   ],
   "source": [
    "from sklearn.ensemble import RandomForestClassifier\n",
    "feat_labels = data.columns[1:]\n",
    "forest = RandomForestClassifier(n_estimators=500,random_state=1)\n",
    "forest.fit(X_train, y_train)\n",
    "importances = forest.feature_importances_\n",
    "indices = np.argsort(importances)[::-1]\n",
    "for f in range(X_train.shape[1]): print(\"%2d) %-*s %f\" % (f + 1, 30,feat_labels[indices[f]],importances[indices[f]]))\n",
    "\n",
    "plt.figure(figsize= (10,5))\n",
    "plt.title('Feature Importance')\n",
    "\n",
    "plt.barh(range(X_train.shape[1]), importances[indices], align='center')\n",
    "\n",
    "plt.yticks(range(X_train.shape[1]), feat_labels[indices], rotation= 0)\n",
    "\n",
    "plt.ylim([-1, X_train.shape[1]])\n",
    "\n",
    "plt.tight_layout()\n",
    "plt.show()"
   ]
  },
  {
   "cell_type": "code",
   "execution_count": 35,
   "metadata": {},
   "outputs": [
    {
     "name": "stdout",
     "output_type": "stream",
     "text": [
      "Number of features that meet this threshold criterion: 12\n",
      " 1) blueGoldDiff                   0.205841\n",
      " 2) blueExperienceDiff             0.169935\n",
      " 3) blueTotalMinionsKilledDiff     0.093414\n",
      " 4) blueTotalJungleMinionsKilledDiff 0.083268\n",
      " 5) blueAssistsDiff                0.080680\n",
      " 6) blueWardsPlacedDiff            0.080579\n",
      " 7) blueAvgLevelDiff               0.073836\n",
      " 8) blueDeaths                     0.058961\n",
      " 9) blueKills                      0.058046\n",
      "10) blueWardsDestroyedDiff         0.054007\n",
      "11) blueDragonsDiff                0.026809\n",
      "12) blueFirstBlood                 0.014625\n"
     ]
    }
   ],
   "source": [
    "from sklearn.feature_selection import SelectFromModel\n",
    "sfm = SelectFromModel(forest, threshold=0.01, prefit=True)\n",
    "X_selected = sfm.transform(X_train)\n",
    "print('Number of features that meet this threshold', 'criterion:', X_selected.shape[1])\n",
    "\n",
    "for f in range(X_selected.shape[1]):\n",
    "    print(\"%2d) %-*s %f\" % (f + 1, 30,feat_labels[indices[f]],importances[indices[f]]))"
   ]
  },
  {
   "cell_type": "code",
   "execution_count": 36,
   "metadata": {},
   "outputs": [],
   "source": [
    "from matplotlib.colors import ListedColormap\n",
    "import matplotlib.pyplot as plt\n",
    "def plot_decision_regions(X, y, classifier, test_idx=None,\n",
    "                          resolution=0.02):\n",
    "    # setup marker generator and color map\n",
    "    markers = ('s', 'x', 'o', '^', 'v')\n",
    "    colors = ('red', 'blue', 'lightgreen', 'gray', 'cyan')\n",
    "    cmap = ListedColormap(colors[:len(np.unique(y))])\n",
    "    \n",
    "    # plot the decision surface\n",
    "    x1_min, x1_max = X[:, 0].min() - 1, X[:, 0].max() + 1\n",
    "    x2_min, x2_max = X[:, 1].min() - 1, X[:, 1].max() + 1\n",
    "    xx1, xx2 = np.meshgrid(np.arange(x1_min, x1_max, resolution),\n",
    "                           np.arange(x2_min, x2_max, resolution))\n",
    "    Z = classifier.predict(np.array([xx1.ravel(), xx2.ravel()]).T)\n",
    "    Z = Z.reshape(xx1.shape)\n",
    "    plt.contourf(xx1, xx2, Z, alpha=0.3, cmap=cmap)\n",
    "    plt.xlim(xx1.min(), xx1.max())\n",
    "    plt.ylim(xx2.min(), xx2.max())\n",
    "    \n",
    "    for idx, cl in enumerate(np.unique(y)):\n",
    "        plt.scatter(x=X[y == cl, 0], y=X[y == cl, 1],\n",
    "                    alpha=0.8, c=colors[idx],\n",
    "                    marker=markers[idx], label=cl,\n",
    "                    edgecolor='black')\n",
    "    \n",
    "    # highlight test examples\n",
    "    if test_idx:\n",
    "        # plot all examples\n",
    "        X_test, y_test = X[test_idx, :], y[test_idx]\n",
    "        \n",
    "        plt.scatter(X_test[:, 0], X_test[:, 1],\n",
    "                    c='', edgecolor='black', alpha=1.0,\n",
    "                    linewidth=1, marker='o',\n",
    "                    s=100, label='test set')"
   ]
  },
  {
   "cell_type": "code",
   "execution_count": 37,
   "metadata": {},
   "outputs": [
    {
     "name": "stdout",
     "output_type": "stream",
     "text": [
      "Test Accuracy: 0.732\n"
     ]
    }
   ],
   "source": [
    "from sklearn.pipeline import make_pipeline\n",
    "pipe_lr = make_pipeline(StandardScaler(), LogisticRegression(random_state=42))\n",
    "pipe_lr.fit(X_train, y_train)\n",
    "y_pred = pipe_lr.predict(X_test)\n",
    "print('Test Accuracy: %.3f' % pipe_lr.score(X_test, y_test))"
   ]
  },
  {
   "cell_type": "code",
   "execution_count": 38,
   "metadata": {},
   "outputs": [
    {
     "name": "stdout",
     "output_type": "stream",
     "text": [
      "CV accuracy scores: [0.72109827 0.73554913 0.72687861 0.71820809 0.73988439 0.72937771\n",
      " 0.76266281 0.72937771 0.72937771 0.73806078]\n",
      "CV accuracy: 0.733 +/- 0.012\n"
     ]
    }
   ],
   "source": [
    "from sklearn.model_selection import cross_val_score\n",
    "\n",
    "scores = cross_val_score(estimator=pipe_lr, X=X_train,  y= y_train, cv=10)\n",
    "\n",
    "print('CV accuracy scores: %s' % scores)\n",
    "print('CV accuracy: %.3f +/- %.3f' % (np.mean(scores),np.std(scores)))"
   ]
  },
  {
   "cell_type": "code",
   "execution_count": 39,
   "metadata": {},
   "outputs": [
    {
     "data": {
      "image/png": "[encoded data removed]",
      "text/plain": [
       "<Figure size 432x288 with 1 Axes>"
      ]
     },
     "metadata": {
      "needs_background": "light"
     },
     "output_type": "display_data"
    }
   ],
   "source": [
    "from sklearn.model_selection import learning_curve\n",
    "\n",
    "pipe_lr = make_pipeline(StandardScaler(),LogisticRegression(penalty='l2',random_state=42, solver='lbfgs',max_iter=10000))\n",
    "\n",
    "train_sizes, train_scores, test_scores =learning_curve(estimator=pipe_lr,X=X_train,y=y_train,\n",
    "                                                       train_sizes=np.linspace(0.1, 1.0, 10),cv=10,n_jobs=1)\n",
    "\n",
    "train_mean = np.mean(train_scores, axis=1)\n",
    "train_std = np.std(train_scores, axis=1)\n",
    "test_mean = np.mean(test_scores, axis=1)\n",
    "test_std = np.std(test_scores, axis=1)\n",
    "\n",
    "plt.plot(train_sizes, train_mean,color='blue', marker='o',markersize=5, label='Training accuracy')\n",
    "\n",
    "plt.fill_between(train_sizes,train_mean + train_std,train_mean - train_std,alpha=0.15, color='blue')\n",
    "\n",
    "\n",
    "plt.plot(train_sizes, test_mean,color='green', linestyle='--',marker='s', markersize=5,label='Validation accuracy')\n",
    "\n",
    "plt.fill_between(train_sizes,test_mean + test_std,test_mean - test_std,alpha=0.15, color='green')\n",
    "\n",
    "plt.grid()\n",
    "plt.xlabel('Number of training examples')\n",
    "plt.ylabel('Accuracy')\n",
    "plt.legend(loc='lower right')\n",
    "plt.ylim([0.65, 0.8])\n",
    "plt.show()"
   ]
  },
  {
   "cell_type": "code",
   "execution_count": 45,
   "metadata": {},
   "outputs": [
    {
     "name": "stdout",
     "output_type": "stream",
     "text": [
      "10-fold cross validation:\n",
      "\n",
      "ROC AUC: 0.81 (+/- 0.01) [Logistic regression]\n",
      "ROC AUC: 0.64 (+/- 0.02) [Decision tree]\n",
      "ROC AUC: 0.73 (+/- 0.02) [KNN]\n"
     ]
    }
   ],
   "source": [
    "from sklearn.model_selection import cross_val_score\n",
    "from sklearn.linear_model import LogisticRegression\n",
    "from sklearn.tree import DecisionTreeClassifier\n",
    "from sklearn.neighbors import KNeighborsClassifier\n",
    "from sklearn.pipeline import Pipeline\n",
    "import numpy as np\n",
    "\n",
    "clf1 = LogisticRegression()\n",
    "\n",
    "clf2 = DecisionTreeClassifier()\n",
    "\n",
    "clf3 = KNeighborsClassifier()\n",
    "\n",
    "\n",
    "pipe1 = Pipeline([['sc', StandardScaler()],['clf', clf1]])\n",
    "\n",
    "pipe3 = Pipeline([['sc', StandardScaler()],['clf', clf3]])\n",
    "\n",
    "clf_labels = ['Logistic regression', 'Decision tree', 'KNN']\n",
    "\n",
    "print('10-fold cross validation:\\n')\n",
    "for clf, label in zip([pipe1, clf2, pipe3], clf_labels):\n",
    "    scores = cross_val_score(estimator=clf,X=X_train,y=y_train,cv=10,scoring='roc_auc')\n",
    "    print(\"ROC AUC: %0.2f (+/- %0.2f) [%s]\"% (scores.mean(), scores.std(), label))"
   ]
  },
  {
   "cell_type": "code",
   "execution_count": 49,
   "metadata": {},
   "outputs": [
    {
     "name": "stdout",
     "output_type": "stream",
     "text": [
      "              precision    recall  f1-score   support\n",
      "\n",
      "           0       0.73      0.74      0.73      1480\n",
      "           1       0.73      0.73      0.73      1484\n",
      "\n",
      "    accuracy                           0.73      2964\n",
      "   macro avg       0.73      0.73      0.73      2964\n",
      "weighted avg       0.73      0.73      0.73      2964\n",
      "\n"
     ]
    }
   ],
   "source": [
    "from sklearn.metrics import classification_report\n",
    "from sklearn.linear_model import LogisticRegression\n",
    "\n",
    "lr = LogisticRegression()\n",
    "lr.fit(X_train_std,y_train)\n",
    "pred1=lr.predict(X_test_std)\n",
    "print(classification_report(y_test,pred1))"
   ]
  },
  {
   "cell_type": "code",
   "execution_count": 50,
   "metadata": {},
   "outputs": [
    {
     "name": "stdout",
     "output_type": "stream",
     "text": [
      "              precision    recall  f1-score   support\n",
      "\n",
      "           0       0.72      0.73      0.72      1480\n",
      "           1       0.73      0.72      0.72      1484\n",
      "\n",
      "    accuracy                           0.72      2964\n",
      "   macro avg       0.72      0.72      0.72      2964\n",
      "weighted avg       0.72      0.72      0.72      2964\n",
      "\n"
     ]
    }
   ],
   "source": [
    "from  sklearn.svm import SVC\n",
    "model = SVC()\n",
    "model.fit(X_train,y_train)\n",
    "pred2 = model.predict(X_test)\n",
    "print(classification_report(y_test,pred2))"
   ]
  },
  {
   "cell_type": "code",
   "execution_count": 51,
   "metadata": {},
   "outputs": [
    {
     "name": "stdout",
     "output_type": "stream",
     "text": [
      "              precision    recall  f1-score   support\n",
      "\n",
      "           0       0.65      0.65      0.65      1480\n",
      "           1       0.65      0.64      0.65      1484\n",
      "\n",
      "    accuracy                           0.65      2964\n",
      "   macro avg       0.65      0.65      0.65      2964\n",
      "weighted avg       0.65      0.65      0.65      2964\n",
      "\n"
     ]
    }
   ],
   "source": [
    "from sklearn.tree import DecisionTreeClassifier\n",
    "dt = DecisionTreeClassifier()\n",
    "dt.fit(X_train,y_train)\n",
    "pred3 = dt.predict(X_test)\n",
    "print(classification_report(y_test,pred3))"
   ]
  },
  {
   "cell_type": "code",
   "execution_count": null,
   "metadata": {},
   "outputs": [],
   "source": []
  }
 ],
 "metadata": {
  "kernelspec": {
   "display_name": "Python 3",
   "language": "python",
   "name": "python3"
  },
  "language_info": {
   "codemirror_mode": {
    "name": "ipython",
    "version": 3
   },
   "file_extension": ".py",
   "mimetype": "text/x-python",
   "name": "python",
   "nbconvert_exporter": "python",
   "pygments_lexer": "ipython3",
   "version": "3.7.6"
  }
 },
 "nbformat": 4,
 "nbformat_minor": 4
}
